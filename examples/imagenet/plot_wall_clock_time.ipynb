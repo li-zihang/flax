{
 "cells": [
  {
   "cell_type": "code",
   "execution_count": 1,
   "metadata": {},
   "outputs": [],
   "source": [
    "import numpy as np\n",
    "import matplotlib.pyplot as plt\n",
    "from matplotlib.pyplot import MultipleLocator"
   ]
  },
  {
   "cell_type": "code",
   "execution_count": 2,
   "metadata": {},
   "outputs": [],
   "source": [
    "ipu_data = np.load(\"ipu_wall_clock_info.npz\")\n",
    "\n",
    "ipu_train_times = ipu_data['epoch_times']\n",
    "ipu_train_losses = ipu_data['train_losses']\n",
    "ipu_train_acces = ipu_data['train_acces']\n",
    "\n",
    "ipu_eval_times = ipu_data['eval_times']\n",
    "ipu_eval_losses = ipu_data['eval_losses']\n",
    "ipu_eval_acces = ipu_data['eval_acces']"
   ]
  },
  {
   "cell_type": "code",
   "execution_count": 3,
   "metadata": {},
   "outputs": [],
   "source": [
    "gpu_data = np.load(\"gpu_wall_clock_info.npz\")\n",
    "\n",
    "gpu_train_times = gpu_data['epoch_times']\n",
    "gpu_train_losses = gpu_data['train_losses']\n",
    "gpu_train_acces = gpu_data['train_acces']\n",
    "\n",
    "gpu_eval_times = gpu_data['eval_times']\n",
    "gpu_eval_losses = gpu_data['eval_losses']\n",
    "gpu_eval_acces = gpu_data['eval_acces']"
   ]
  },
  {
   "cell_type": "code",
   "execution_count": null,
   "metadata": {},
   "outputs": [],
   "source": [
    "# Train loss between IPU and GPU\n",
    "plt.figure(figsize=(10, 6), dpi=200)\n",
    "plt.title('Train: loss')\n",
    "plt.xlabel('time/sec')\n",
    "plt.ylabel('train_loss')\n",
    "plt.ylim(1.9, 2.4)\n",
    "x_major_locator=MultipleLocator(120)\n",
    "y_major_locator=MultipleLocator(0.05)\n",
    "ax=plt.gca()\n",
    "ax.xaxis.set_major_locator(x_major_locator)\n",
    "ax.yaxis.set_major_locator(y_major_locator)\n",
    "ax.tick_params(axis='x', labelsize=6)\n",
    "ax.tick_params(axis='y', labelsize=6)\n",
    "ipu_loss_curve = plt.plot(ipu_train_times, ipu_train_losses, label='ipu_train_loss')\n",
    "gpu_loss_curve = plt.plot(gpu_train_times, gpu_train_losses, label='gpu_train_loss')\n",
    "plt.legend()\n",
    "plt.show()"
   ]
  },
  {
   "cell_type": "code",
   "execution_count": null,
   "metadata": {},
   "outputs": [],
   "source": [
    "# Train accuracy between IPU and GPU\n",
    "plt.figure(figsize=(10, 6), dpi=200)\n",
    "plt.title('Train: accuracy')\n",
    "plt.xlabel('time/sec')\n",
    "plt.ylabel('train_loss')\n",
    "plt.ylim(5, 40)\n",
    "x_major_locator=MultipleLocator(120)\n",
    "y_major_locator=MultipleLocator(5)\n",
    "ax=plt.gca()\n",
    "ax.xaxis.set_major_locator(x_major_locator)\n",
    "ax.yaxis.set_major_locator(y_major_locator)\n",
    "ax.tick_params(axis='x', labelsize=6)\n",
    "ax.tick_params(axis='y', labelsize=6)\n",
    "ipu_acc_curve = plt.plot(ipu_train_times, ipu_train_acces, label='ipu_train_acc')\n",
    "gpu_acc_curve = plt.plot(gpu_train_times, gpu_train_acces, label='gpu_train_acc')\n",
    "plt.legend()\n",
    "plt.show()"
   ]
  },
  {
   "cell_type": "code",
   "execution_count": null,
   "metadata": {},
   "outputs": [],
   "source": []
  }
 ],
 "metadata": {
  "kernelspec": {
   "display_name": "Python 3.6.9 ('jax_py36')",
   "language": "python",
   "name": "python3"
  },
  "language_info": {
   "codemirror_mode": {
    "name": "ipython",
    "version": 3
   },
   "file_extension": ".py",
   "mimetype": "text/x-python",
   "name": "python",
   "nbconvert_exporter": "python",
   "pygments_lexer": "ipython3",
   "version": "3.6.9"
  },
  "orig_nbformat": 4,
  "vscode": {
   "interpreter": {
    "hash": "77395b609b79a0623840d52a06392913e43cda86d1002a00f70ca43a3be77ed8"
   }
  }
 },
 "nbformat": 4,
 "nbformat_minor": 2
}
